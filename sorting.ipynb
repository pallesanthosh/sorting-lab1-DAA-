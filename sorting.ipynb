{
  "nbformat": 4,
  "nbformat_minor": 0,
  "metadata": {
    "colab": {
      "provenance": []
    },
    "kernelspec": {
      "name": "python3",
      "display_name": "Python 3"
    },
    "language_info": {
      "name": "python"
    }
  },
  "cells": [
    {
      "cell_type": "code",
      "source": [
        "import time\n",
        "import random\n",
        "A = [random.randint(1, 100) for _ in range(100)]\n",
        "print(\"randommly generated array\",A)\n",
        "\n",
        "\n",
        "start_time = time.time()\n",
        "\n",
        "swaps = 0\n",
        "for i in range(len(A)):\n",
        "    min_idx = i\n",
        "    for j in range(i + 1, len(A)):\n",
        "        if A[min_idx] > A[j]:\n",
        "            min_idx = j\n",
        "            swaps += 1\n",
        "\n",
        "    A[i], A[min_idx] = A[min_idx], A[i]\n",
        "\n",
        "end_time = time.time()\n",
        "print(\"Sorted array:\")\n",
        "for i in range(len(A)):\n",
        "    print(\"%d\" % A[i], end=\", \")\n",
        "\n",
        "print(\"\\nExecution Time: %.8f seconds\" % (end_time - start_time))\n",
        "print(\"Number of Swaps: %d\" % swaps)\n"
      ],
      "metadata": {
        "colab": {
          "base_uri": "https://localhost:8080/"
        },
        "id": "YrCqKdxLUKfM",
        "outputId": "924fe13d-f5f5-4c01-cfbb-dd9e177fdc01"
      },
      "execution_count": 8,
      "outputs": [
        {
          "output_type": "stream",
          "name": "stdout",
          "text": [
            "randommly generated array [38, 68, 1, 80, 4, 81, 59, 41, 87, 35, 93, 26, 19, 38, 10, 96, 1, 86, 86, 36, 47, 33, 41, 79, 40, 44, 11, 92, 75, 12, 6, 47, 77, 68, 94, 91, 84, 100, 29, 90, 10, 37, 33, 8, 96, 42, 5, 43, 7, 4, 77, 55, 82, 60, 90, 88, 75, 2, 79, 23, 62, 82, 24, 82, 30, 34, 35, 28, 67, 49, 76, 9, 98, 88, 97, 5, 21, 23, 93, 44, 91, 71, 38, 80, 44, 57, 24, 92, 23, 30, 13, 75, 59, 62, 53, 54, 47, 59, 28, 82]\n",
            "Sorted array:\n",
            "1, 1, 2, 4, 4, 5, 5, 6, 7, 8, 9, 10, 10, 11, 12, 13, 19, 21, 23, 23, 23, 24, 24, 26, 28, 28, 29, 30, 30, 33, 33, 34, 35, 35, 36, 37, 38, 38, 38, 40, 41, 41, 42, 43, 44, 44, 44, 47, 47, 47, 49, 53, 54, 55, 57, 59, 59, 59, 60, 62, 62, 67, 68, 68, 71, 75, 75, 75, 76, 77, 77, 79, 79, 80, 80, 81, 82, 82, 82, 82, 84, 86, 86, 87, 88, 88, 90, 90, 91, 91, 92, 92, 93, 93, 94, 96, 96, 97, 98, 100, \n",
            "Execution Time: 0.00098324 seconds\n",
            "Number of Swaps: 301\n"
          ]
        }
      ]
    },
    {
      "cell_type": "code",
      "source": [
        "\n",
        "import time\n",
        "import random\n",
        "A = [random.randint(1, 100) for _ in range(100)]\n",
        "print(\"Randomly generated array:\", A)\n",
        "\n",
        "start_time = time.time()\n",
        "\n",
        "swaps = 0\n",
        "\n",
        "\n",
        "for i in range(len(A)):\n",
        "    for j in range(0, len(A)-i-1):\n",
        "        if A[j] > A[j+1]:\n",
        "            A[j], A[j+1] = A[j+1], A[j]\n",
        "            swaps += 1\n",
        "\n",
        "end_time = time.time()\n",
        "\n",
        "print(\"Sorted array:\")\n",
        "for i in range(len(A)):\n",
        "    print(\"%d\" % A[i], end=\", \")\n",
        "\n",
        "print(\"\\nExecution Time: %.8f seconds\" % (end_time - start_time))\n",
        "print(\"Number of Swaps: %d\" % swaps)"
      ],
      "metadata": {
        "colab": {
          "base_uri": "https://localhost:8080/"
        },
        "id": "xnNFwCz-U5cX",
        "outputId": "86feab31-620f-406b-f3d3-d8f34a1f9156"
      },
      "execution_count": 9,
      "outputs": [
        {
          "output_type": "stream",
          "name": "stdout",
          "text": [
            "Randomly generated array: [38, 95, 25, 51, 50, 63, 100, 16, 27, 77, 7, 73, 6, 90, 89, 7, 51, 8, 98, 79, 47, 3, 90, 4, 47, 19, 28, 15, 62, 56, 34, 2, 10, 50, 61, 25, 45, 82, 17, 16, 99, 78, 64, 36, 53, 31, 59, 23, 85, 65, 54, 16, 61, 3, 85, 46, 69, 86, 33, 18, 100, 80, 35, 74, 32, 50, 12, 24, 39, 87, 59, 65, 67, 6, 18, 84, 57, 50, 98, 96, 50, 32, 58, 18, 29, 16, 9, 59, 43, 64, 46, 82, 76, 27, 46, 94, 29, 5, 36, 93]\n",
            "Sorted array:\n",
            "2, 3, 3, 4, 5, 6, 6, 7, 7, 8, 9, 10, 12, 15, 16, 16, 16, 16, 17, 18, 18, 18, 19, 23, 24, 25, 25, 27, 27, 28, 29, 29, 31, 32, 32, 33, 34, 35, 36, 36, 38, 39, 43, 45, 46, 46, 46, 47, 47, 50, 50, 50, 50, 50, 51, 51, 53, 54, 56, 57, 58, 59, 59, 59, 61, 61, 62, 63, 64, 64, 65, 65, 67, 69, 73, 74, 76, 77, 78, 79, 80, 82, 82, 84, 85, 85, 86, 87, 89, 90, 90, 93, 94, 95, 96, 98, 98, 99, 100, 100, \n",
            "Execution Time: 0.00482535 seconds\n",
            "Number of Swaps: 2380\n"
          ]
        }
      ]
    },
    {
      "cell_type": "code",
      "source": [
        "import random\n",
        "array1= [random.randint(1, 100) for _ in range(100)]\n",
        "\n",
        "start_time = time.time()\n",
        "array1.sort()\n",
        "end_time = time.time()\n",
        "print(array1)\n",
        "print(\"\\nExecution Time: %.8f seconds\" % (end_time - start_time))"
      ],
      "metadata": {
        "colab": {
          "base_uri": "https://localhost:8080/"
        },
        "id": "w1eoZelUVDjg",
        "outputId": "657fe6c8-0bba-42cd-a215-8e93afb12f68"
      },
      "execution_count": 6,
      "outputs": [
        {
          "output_type": "stream",
          "name": "stdout",
          "text": [
            "[1, 1, 2, 4, 4, 4, 5, 5, 5, 7, 7, 8, 9, 9, 9, 10, 11, 12, 12, 13, 15, 16, 16, 18, 18, 19, 19, 20, 22, 25, 26, 27, 27, 28, 30, 30, 31, 31, 32, 33, 34, 35, 35, 37, 38, 38, 39, 40, 41, 42, 45, 45, 45, 48, 50, 50, 51, 52, 53, 54, 54, 54, 54, 55, 55, 57, 57, 57, 58, 62, 63, 63, 65, 65, 66, 66, 67, 68, 68, 71, 72, 73, 74, 75, 77, 78, 82, 85, 86, 89, 90, 90, 91, 92, 93, 94, 96, 97, 97, 98]\n",
            "\n",
            "Execution Time: 0.00010204 seconds\n"
          ]
        }
      ]
    },
    {
      "cell_type": "code",
      "source": [
        "\n",
        "import time\n",
        "import random\n",
        "A = [random.randint(1, 100) for _ in range(100)]\n",
        "\n",
        "start_time = time.time()\n",
        "\n",
        "swaps = 0\n",
        "print(\"Randomly generated array:\", A)\n",
        "\n",
        "\n",
        "for i in range(len(A)):\n",
        "    for j in range(0, len(A)-i-1):\n",
        "        if A[j] > A[j+1]:\n",
        "            A[j], A[j+1] = A[j+1], A[j]\n",
        "            swaps += 1\n",
        "\n",
        "end_time = time.time()\n",
        "\n",
        "print(\"Sorted array:\")\n",
        "for i in range(len(A)):\n",
        "    print(\"%d\" % A[i], end=\", \")\n",
        "\n",
        "print(\"\\nExecution Time: %.8f seconds\" % (end_time - start_time))\n",
        "print(\"Number of Swaps: %d\" % swaps)"
      ],
      "metadata": {
        "colab": {
          "base_uri": "https://localhost:8080/"
        },
        "id": "VbCDK1N7XlmH",
        "outputId": "a5121667-50e0-40d5-bfef-15b6fb29167f"
      },
      "execution_count": 10,
      "outputs": [
        {
          "output_type": "stream",
          "name": "stdout",
          "text": [
            "Randomly generated array: [50, 4, 14, 7, 32, 12, 25, 88, 28, 82, 99, 81, 48, 100, 19, 48, 90, 88, 14, 82, 64, 63, 49, 48, 12, 45, 83, 47, 72, 100, 30, 21, 60, 57, 96, 55, 84, 9, 12, 27, 23, 24, 20, 62, 37, 15, 60, 29, 66, 69, 44, 78, 53, 54, 85, 69, 19, 98, 67, 90, 29, 20, 35, 42, 54, 20, 31, 76, 42, 8, 42, 31, 31, 74, 31, 56, 96, 39, 12, 4, 29, 74, 74, 5, 63, 71, 33, 41, 70, 53, 63, 64, 29, 99, 8, 55, 56, 36, 66, 59]\n",
            "Sorted array:\n",
            "4, 4, 5, 7, 8, 8, 9, 12, 12, 12, 12, 14, 14, 15, 19, 19, 20, 20, 20, 21, 23, 24, 25, 27, 28, 29, 29, 29, 29, 30, 31, 31, 31, 31, 32, 33, 35, 36, 37, 39, 41, 42, 42, 42, 44, 45, 47, 48, 48, 48, 49, 50, 53, 53, 54, 54, 55, 55, 56, 56, 57, 59, 60, 60, 62, 63, 63, 63, 64, 64, 66, 66, 67, 69, 69, 70, 71, 72, 74, 74, 74, 76, 78, 81, 82, 82, 83, 84, 85, 88, 88, 90, 90, 96, 96, 98, 99, 99, 100, 100, \n",
            "Execution Time: 0.00767612 seconds\n",
            "Number of Swaps: 2425\n"
          ]
        }
      ]
    }
  ]
}